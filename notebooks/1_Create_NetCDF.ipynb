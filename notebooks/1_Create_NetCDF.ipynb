{
 "cells": [
  {
   "cell_type": "code",
   "execution_count": 1,
   "metadata": {},
   "outputs": [
    {
     "name": "stdout",
     "output_type": "stream",
     "text": [
      "Your WaPOR API Token: ae2cb01f4755089b517bedeb686185dc6215c0d13441ec902224192c1ca21656130d5d4664a09f32\n"
     ]
    }
   ],
   "source": [
    "import os\n",
    "import glob\n",
    "#import WAPORWA modules\n",
    "os.chdir(r'D:\\Github\\WAPORWA\\modules') #change to modules path\n",
    "import WaPOR\n",
    "import WA\n",
    "from WA.pickle_basin import pickle_in,pickle_out\n",
    "from WA.create_NC import main as make_netcdf\n",
    "from WA.create_NC import _get_lats_lons \n",
    "import gdal\n",
    "import tempfile"
   ]
  },
  {
   "cell_type": "markdown",
   "metadata": {},
   "source": [
    "# BASIN Info"
   ]
  },
  {
   "cell_type": "code",
   "execution_count": 2,
   "metadata": {},
   "outputs": [
    {
     "data": {
      "text/plain": [
       "'D:\\\\Github\\\\WAPORWA\\\\data\\\\Litani\\\\Main\\\\Info_20200717_14h48.pickle'"
      ]
     },
     "execution_count": 2,
     "metadata": {},
     "output_type": "execute_result"
    }
   ],
   "source": [
    "INPUT_FOLDER=r\"D:\\Github\\WAPORWA\\data\\Litani\\Input\"\n",
    "BASIN={'Name':'Litani',   \n",
    "        'Dir':   r\"D:\\Github\\WAPORWA\\data\\Litani\\Main\",\n",
    "        'time_range':['2009-01-01','2018-12-31'],\n",
    "        'end_month':'DEC',        \n",
    "        'geo_data':{\n",
    "                   'basin':r\"D:\\Github\\WAPORWA\\data\\Global\\Basins\\BasinLitani.shp\",\n",
    "                      },\n",
    "        'global_data':{\n",
    "#                      'grace':r\"D:\\Github\\WAPORWA\\data\\Global\\GRACE\\GSFC.glb.200301_201607_v02.4-ICE6G\",\n",
    "                     'grand':r\"D:\\Github\\WAPORWA\\data\\Global\\GRanD\\GRanD_reservoirs_v1_1.shp\",\n",
    "                     'wdpa':r\"D:\\Github\\WAPORWA\\data\\Global\\WDPA\\WDPA_17countries.shp\",\n",
    "                     },\n",
    "        'input_data':{\n",
    "                      'yearly':{\n",
    "                              'lcc':[r\"\"+os.path.join(INPUT_FOLDER,'L2_LCC_A'),\n",
    "                                     '-','Landcover Class'],\n",
    "                                'lu':[r\"D:\\Github\\WAPORWA\\data\\Litani\\Main\\data\\luwa\",\n",
    "                                     '-','WA+ Landuse Categories'],\n",
    "                              },\n",
    "                      'monthly':{\n",
    "                              'p':[r\"\"+os.path.join(INPUT_FOLDER,'L1_PCP_M'),\n",
    "                                   'mm/month','Precipitation'],\n",
    "                              'et':[r\"\"+os.path.join(INPUT_FOLDER,'L2_AETI_M'),\n",
    "                                    'mm/month','Actual Evapotranspiration'],\n",
    "                              'ret':[r\"\"+os.path.join(INPUT_FOLDER,'L1_RET_M'),\n",
    "                                    'mm/month','Reference Evapotranspiration'],\n",
    "                              'i':[r\"\"+os.path.join(INPUT_FOLDER,'L2_I_M'),\n",
    "                                    'mm/month','Interception'],\n",
    "                              'nRD':[r\"\"+os.path.join(INPUT_FOLDER,'Rainy_Days'),\n",
    "                                    'days/month','Number of Rainy Days'],\n",
    "                              'grace':[r\"\"+os.path.join(INPUT_FOLDER,'twsds'),\n",
    "                                              'mm/month','Grace']\n",
    "                              },  \n",
    "                    'stat':{\n",
    "                             'thetasat': [r\"D:\\Github\\WAPORWA\\data\\Global\\HiHydroSoils\\thetasat_topsoil.tif\",\n",
    "                                          '%','Top-soil Saturated Water Content']\n",
    "                            }                                                   \n",
    "                              },\n",
    "        'input_ts':{\n",
    "                'dS':None,\n",
    "                'Qoutlet':r\"D:\\Github\\WAPORWA\\data\\Litani\\Input\\Qoutlet_litani_QASMIYE_SeaMouth.csv\",\n",
    "                'Qswout':r\"D:\\Github\\WAPORWA\\data\\Litani\\Input\\Qibt_litani_MarkabaTunnel.csv\",\n",
    "                'Qgwout':None,\n",
    "                \n",
    "                    },\n",
    "        'main_data':{\n",
    "                'yearly':{},\n",
    "                     'monthly':{},\n",
    "                     'stat':{},\n",
    "                     }                \n",
    "                }\n",
    "\n",
    "pickle_out(BASIN)"
   ]
  },
  {
   "cell_type": "markdown",
   "metadata": {},
   "source": [
    "# Create netcdf"
   ]
  },
  {
   "cell_type": "code",
   "execution_count": 3,
   "metadata": {},
   "outputs": [],
   "source": [
    "#Get inputs for create_NC\n",
    "cutline=BASIN['geo_data']['basin']\n",
    "Dir_out=os.path.join(BASIN['Dir'],'data','nc')\n",
    "if not os.path.exists(Dir_out):\n",
    "    os.makedirs(Dir_out)    \n",
    "template=glob.glob(os.path.join(BASIN['input_data']['yearly']['lcc'][0],'*.tif'))[0]          \n",
    "    "
   ]
  },
  {
   "cell_type": "code",
   "execution_count": 4,
   "metadata": {
    "scrolled": false
   },
   "outputs": [
    {
     "name": "stdout",
     "output_type": "stream",
     "text": [
      "6.806621238863997e-16\n",
      "-6.806621238863997e-16\n"
     ]
    },
    {
     "name": "stderr",
     "output_type": "stream",
     "text": [
      "100%|█████████████████████████████████████████████████████████████████████████| 10/10 [00:06<00:00,  1.53it/s]\n"
     ]
    },
    {
     "name": "stdout",
     "output_type": "stream",
     "text": [
      "Finished lcc_yearly.nc\n",
      "6.806621238863997e-16\n",
      "-6.806621238863997e-16\n"
     ]
    },
    {
     "name": "stderr",
     "output_type": "stream",
     "text": [
      "100%|█████████████████████████████████████████████████████████████████████████| 10/10 [00:04<00:00,  2.15it/s]\n"
     ]
    },
    {
     "name": "stdout",
     "output_type": "stream",
     "text": [
      "Finished lu_yearly.nc\n",
      "6.806621238863997e-16\n",
      "-6.806621238863997e-16\n"
     ]
    },
    {
     "name": "stderr",
     "output_type": "stream",
     "text": [
      "100%|███████████████████████████████████████████████████████████████████████| 120/120 [00:46<00:00,  2.12it/s]\n"
     ]
    },
    {
     "name": "stdout",
     "output_type": "stream",
     "text": [
      "Finished p_monthly.nc\n",
      "6.806621238863997e-16\n",
      "-6.806621238863997e-16\n"
     ]
    },
    {
     "name": "stderr",
     "output_type": "stream",
     "text": [
      "100%|███████████████████████████████████████████████████████████████████████| 120/120 [01:21<00:00,  1.32it/s]\n"
     ]
    },
    {
     "name": "stdout",
     "output_type": "stream",
     "text": [
      "Finished et_monthly.nc\n",
      "6.806621238863997e-16\n",
      "-6.806621238863997e-16\n"
     ]
    },
    {
     "name": "stderr",
     "output_type": "stream",
     "text": [
      "100%|███████████████████████████████████████████████████████████████████████| 120/120 [00:47<00:00,  2.24it/s]\n"
     ]
    },
    {
     "name": "stdout",
     "output_type": "stream",
     "text": [
      "Finished ret_monthly.nc\n",
      "6.806621238863997e-16\n",
      "-6.806621238863997e-16\n"
     ]
    },
    {
     "name": "stderr",
     "output_type": "stream",
     "text": [
      "100%|███████████████████████████████████████████████████████████████████████| 120/120 [00:52<00:00,  1.58it/s]\n"
     ]
    },
    {
     "name": "stdout",
     "output_type": "stream",
     "text": [
      "Finished i_monthly.nc\n",
      "6.806621238863997e-16\n",
      "-6.806621238863997e-16\n"
     ]
    },
    {
     "name": "stderr",
     "output_type": "stream",
     "text": [
      "100%|███████████████████████████████████████████████████████████████████████| 120/120 [00:35<00:00,  3.40it/s]\n"
     ]
    },
    {
     "name": "stdout",
     "output_type": "stream",
     "text": [
      "Finished nRD_monthly.nc\n",
      "6.806621238863997e-16\n",
      "-6.806621238863997e-16\n",
      "{'Top-soil Saturated Water Content': array([[-9999., -9999., -9999., ..., -9999., -9999., -9999.],\n",
      "       [-9999., -9999., -9999., ..., -9999., -9999., -9999.],\n",
      "       [-9999., -9999., -9999., ..., -9999., -9999., -9999.],\n",
      "       ...,\n",
      "       [-9999., -9999., -9999., ..., -9999., -9999., -9999.],\n",
      "       [-9999., -9999., -9999., ..., -9999., -9999., -9999.],\n",
      "       [-9999., -9999., -9999., ..., -9999., -9999., -9999.]],\n",
      "      dtype=float32)}\n",
      "D:\\Github\\WAPORWA\\data\\Global\\Basins\\BasinLitani.shp\n",
      "Top-soil Saturated Water Content\n",
      "(958, 1181)\n"
     ]
    },
    {
     "name": "stderr",
     "output_type": "stream",
     "text": [
      "0it [00:00, ?it/s]\n"
     ]
    },
    {
     "name": "stdout",
     "output_type": "stream",
     "text": [
      "Finished thetasatstat.nc\n"
     ]
    },
    {
     "data": {
      "text/plain": [
       "'D:\\\\Github\\\\WAPORWA\\\\data\\\\Litani\\\\Main\\\\Info_20200717_14h52.pickle'"
      ]
     },
     "execution_count": 4,
     "metadata": {},
     "output_type": "execute_result"
    }
   ],
   "source": [
    "### yearly maps\n",
    "for key in BASIN['input_data']['yearly']:             \n",
    "    if BASIN['input_data']['yearly'][key] is not None:\n",
    "        nc_fn=os.path.join(Dir_out,key+'_yearly.nc')        \n",
    "        dataset={key:[BASIN['input_data']['yearly'][key][0],\n",
    "                       ('time','latitude', 'longitude'), \n",
    "                       {'units': BASIN['input_data']['yearly'][key][1],                                 \n",
    "                        'quantity':BASIN['input_data']['yearly'][key][2],\n",
    "                        'source': 'WaPOR', 'period':'year'}]}\n",
    "        succes=make_netcdf(nc_fn,BASIN['Name'],dataset,template,cutline,step='year')\n",
    "        if succes:\n",
    "            BASIN['main_data']['yearly'][key]=nc_fn\n",
    "            print('Finished {0}_yearly.nc'.format(key))\n",
    "            \n",
    "### monthly maps  \n",
    "for key in BASIN['input_data']['monthly']:           \n",
    "    if BASIN['input_data']['monthly'][key] is not None:\n",
    "        nc_fn=os.path.join(Dir_out,key+'_monthly.nc')                \n",
    "        dataset={key:[BASIN['input_data']['monthly'][key][0],\n",
    "                       ('time','latitude', 'longitude'), \n",
    "                       {'units': BASIN['input_data']['monthly'][key][1],                                 \n",
    "                        'quantity':BASIN['input_data']['monthly'][key][2],\n",
    "                        'source': 'WaPOR', 'period':'month'}]}\n",
    "        succes=make_netcdf(nc_fn,BASIN['Name'],dataset,template,cutline,step='month')\n",
    "        if succes:\n",
    "            BASIN['main_data']['monthly'][key]=nc_fn\n",
    "            print('Finished {0}_monthly.nc'.format(key))\n",
    "  \n",
    "### static maps\n",
    "for key in BASIN['input_data']['stat']:            \n",
    "    if BASIN['input_data']['stat'][key] is not None:  \n",
    "        nc_fn=os.path.join(Dir_out,key+'_stat.nc')                \n",
    "        dataset={key:[BASIN['input_data']['stat'][key][0],\n",
    "                       ('latitude', 'longitude'), \n",
    "                       {'units': BASIN['input_data']['stat'][key][1],                                 \n",
    "                        'quantity':BASIN['input_data']['stat'][key][2],\n",
    "                        'source': 'WaPOR', 'period':'stat'}]}\n",
    "        succes=make_netcdf(nc_fn,BASIN['Name'],dataset,template,cutline)\n",
    "        if succes:\n",
    "            BASIN['main_data']['stat'][key]=nc_fn\n",
    "            print('Finished {0}stat.nc'.format(key))\n",
    "\n",
    "pickle_out(BASIN)   "
   ]
  },
  {
   "cell_type": "code",
   "execution_count": null,
   "metadata": {},
   "outputs": [],
   "source": []
  }
 ],
 "metadata": {
  "kernelspec": {
   "display_name": "Python 3 (ipykernel)",
   "language": "python",
   "name": "python3"
  },
  "language_info": {
   "codemirror_mode": {
    "name": "ipython",
    "version": 3
   },
   "file_extension": ".py",
   "mimetype": "text/x-python",
   "name": "python",
   "nbconvert_exporter": "python",
   "pygments_lexer": "ipython3",
   "version": "3.7.13"
  }
 },
 "nbformat": 4,
 "nbformat_minor": 2
}
